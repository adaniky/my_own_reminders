{
 "cells": [
  {
   "cell_type": "code",
   "execution_count": 1,
   "metadata": {},
   "outputs": [],
   "source": [
    "%matplotlib inline\n",
    "import matplotlib.pyplot as plt\n",
    "import seaborn as sns; sns.set()\n",
    "import numpy as np"
   ]
  },
  {
   "cell_type": "code",
   "execution_count": null,
   "metadata": {},
   "outputs": [],
   "source": [
    "def make_hello(N=1000, rseed=42):\n",
    "    # Создаем рисунок с текстом \"HELLO\"; сохраняем его в формате PNG\n",
    "    fig, ax = plt.subplots(figsize=(4, 1))\n",
    "    fig.subplots_adjust(left=0, right=1, bottom=0, top=1)\n",
    "    ax.axis('off')\n",
    "    ax.text(0.5, 0.4, 'HELLO', va='center', ha='center', weight='bold',\n",
    "    size=85)\n",
    "    fig.savefig('hello.png')\n",
    "    plt.close(fig)\n",
    "    # Открываем этот PNG-файл и берем из него случайные точки\n",
    "from matplotlib.image import imread\n",
    "data = imread('hello.png')[::-1, :, 0].T\n",
    "rng = np.random.RandomState(rseed)\n",
    "X = rng.rand(4 * N, 2)\n",
    "i, j = (X * data.shape).astype(int).T\n",
    "mask = (data[i, j] < 1)\n",
    "X = X[mask]\n",
    "X[:, 0] *= (data.shape[0] / data.shape[1])\n",
    "X = X[:N]\n",
    "return X[np.argsort(X[:, 0])]"
   ]
  },
  {
   "cell_type": "code",
   "execution_count": null,
   "metadata": {},
   "outputs": [],
   "source": []
  }
 ],
 "metadata": {
  "kernelspec": {
   "display_name": "Python 3",
   "language": "python",
   "name": "python3"
  },
  "language_info": {
   "codemirror_mode": {
    "name": "ipython",
    "version": 3
   },
   "file_extension": ".py",
   "mimetype": "text/x-python",
   "name": "python",
   "nbconvert_exporter": "python",
   "pygments_lexer": "ipython3",
   "version": "3.8.6"
  }
 },
 "nbformat": 4,
 "nbformat_minor": 4
}
